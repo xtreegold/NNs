{
  "nbformat": 4,
  "nbformat_minor": 0,
  "metadata": {
    "colab": {
      "name": "Predictor de temperatura .ipynb",
      "provenance": [],
      "authorship_tag": "ABX9TyO9Tuu9064trmHahj8cPfn+",
      "include_colab_link": true
    },
    "kernelspec": {
      "name": "python3",
      "display_name": "Python 3"
    },
    "language_info": {
      "name": "python"
    }
  },
  "cells": [
    {
      "cell_type": "markdown",
      "metadata": {
        "id": "view-in-github",
        "colab_type": "text"
      },
      "source": [
        "<a href=\"https://colab.research.google.com/github/xtreegold/NNs/blob/main/Predictor_de_temperatura_.ipynb\" target=\"_parent\"><img src=\"https://colab.research.google.com/assets/colab-badge.svg\" alt=\"Open In Colab\"/></a>"
      ]
    },
    {
      "cell_type": "code",
      "metadata": {
        "id": "dQO20IAlfjnd"
      },
      "source": [
        "#primero importamos tensorflow y numpy\n",
        "import tensorflow as tf"
      ],
      "execution_count": 1,
      "outputs": []
    },
    {
      "cell_type": "code",
      "metadata": {
        "id": "uFi_dJSvjLmu"
      },
      "source": [
        "import numpy as np"
      ],
      "execution_count": 2,
      "outputs": []
    },
    {
      "cell_type": "code",
      "metadata": {
        "id": "3U3-RDFPjNqy"
      },
      "source": [
        "#Aquí definimos las variables que tienen una correlación lineal, en este caso los meses están representados por números, las temperaturas en Celcius.\n",
        "mes = np.array([1, 2, 3, 4, 5, 6, 7], dtype=float)\n",
        "temperatura = np.array([7, 7.9, 9, 10.8, 14.1, 17.9, 20.8], dtype=float)\n"
      ],
      "execution_count": 3,
      "outputs": []
    },
    {
      "cell_type": "code",
      "metadata": {
        "id": "-QTeQltGjRuE"
      },
      "source": [
        "capa = tf.keras.layers.Dense(units=1, input_shape=[1])\n",
        "modelo = tf.keras.Sequential([capa])"
      ],
      "execution_count": 4,
      "outputs": []
    },
    {
      "cell_type": "code",
      "metadata": {
        "id": "YAFjwLwjkUWB"
      },
      "source": [
        "modelo.compile(\n",
        "    optimizer=tf.keras.optimizers.Adam(0.05),\n",
        "    loss='mean_squared_error'\n",
        "\n",
        ")"
      ],
      "execution_count": 5,
      "outputs": []
    },
    {
      "cell_type": "code",
      "metadata": {
        "colab": {
          "base_uri": "https://localhost:8080/"
        },
        "id": "wGiPJEQ_krKA",
        "outputId": "3a433cd5-33ae-4364-99df-397d7b60a9aa"
      },
      "source": [
        "print(\"Comenzando entrenamiento de la red...\")\n",
        "historial = modelo.fit(mes, temperatura, epochs=1000, verbose=False)\n",
        "print (\"Modelo entrenado!\")\n"
      ],
      "execution_count": 6,
      "outputs": [
        {
          "output_type": "stream",
          "name": "stdout",
          "text": [
            "Comenzando entrenamiento de la red...\n",
            "Modelo entrenado!\n"
          ]
        }
      ]
    },
    {
      "cell_type": "code",
      "metadata": {
        "colab": {
          "base_uri": "https://localhost:8080/",
          "height": 296
        },
        "id": "EuvTQGGtlqhR",
        "outputId": "2be6dec3-d9d4-4616-e6b3-ebf6694d8476"
      },
      "source": [
        "import matplotlib.pyplot as plt\n",
        "plt.xlabel(\"# Iteración\")\n",
        "plt.ylabel(\"Magnitud de pérdida\")\n",
        "plt.plot(historial.history[\"loss\"])\n"
      ],
      "execution_count": 7,
      "outputs": [
        {
          "output_type": "execute_result",
          "data": {
            "text/plain": [
              "[<matplotlib.lines.Line2D at 0x7f41c60c7c90>]"
            ]
          },
          "metadata": {},
          "execution_count": 7
        },
        {
          "output_type": "display_data",
          "data": {
            "image/png": "[encoded data removed]",
            "text/plain": [
              "<Figure size 432x288 with 1 Axes>"
            ]
          },
          "metadata": {
            "needs_background": "light"
          }
        }
      ]
    },
    {
      "cell_type": "code",
      "metadata": {
        "colab": {
          "base_uri": "https://localhost:8080/"
        },
        "id": "v8F5bW1YmKzI",
        "outputId": "b83db9d6-5d0e-42ee-f502-e51c94c46d77"
      },
      "source": [
        "print(\"Test de conversión de red neuronal\")\n",
        "resultado = modelo.predict([8])\n",
        "print (\"La temperatura en agosto fue de \" + str(resultado) + \" Celsius\")\n"
      ],
      "execution_count": 8,
      "outputs": [
        {
          "output_type": "stream",
          "name": "stdout",
          "text": [
            "Test de conversión de red neuronal\n",
            "La temperatura en agosto fue de [[21.992607]] Celsius\n"
          ]
        }
      ]
    },
    {
      "cell_type": "code",
      "metadata": {
        "colab": {
          "base_uri": "https://localhost:8080/"
        },
        "id": "CqLMNtoLL5AF",
        "outputId": "a75b17f1-29c4-48ba-d06e-8ca099933895"
      },
      "source": [
        "print (\"Variables internas del modelo\")\n",
        "print (capa.get_weights())"
      ],
      "execution_count": 9,
      "outputs": [
        {
          "output_type": "stream",
          "name": "stdout",
          "text": [
            "Variables internas del modelo\n",
            "[array([[2.3726904]], dtype=float32), array([3.0110846], dtype=float32)]\n"
          ]
        }
      ]
    }
  ]
}