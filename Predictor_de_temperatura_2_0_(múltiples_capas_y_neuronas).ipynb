{
  "nbformat": 4,
  "nbformat_minor": 0,
  "metadata": {
    "colab": {
      "name": "Predictor de temperatura 2.0 (múltiples capas y neuronas).ipynb",
      "provenance": [],
      "authorship_tag": "ABX9TyNDjI7/G7ux90yuwbRsUhV6",
      "include_colab_link": true
    },
    "kernelspec": {
      "name": "python3",
      "display_name": "Python 3"
    },
    "language_info": {
      "name": "python"
    }
  },
  "cells": [
    {
      "cell_type": "markdown",
      "metadata": {
        "id": "view-in-github",
        "colab_type": "text"
      },
      "source": [
        "<a href=\"https://colab.research.google.com/github/xtreegold/NNs/blob/main/Predictor_de_temperatura_2_0_(m%C3%BAltiples_capas_y_neuronas).ipynb\" target=\"_parent\"><img src=\"https://colab.research.google.com/assets/colab-badge.svg\" alt=\"Open In Colab\"/></a>"
      ]
    },
    {
      "cell_type": "code",
      "metadata": {
        "id": "dQO20IAlfjnd"
      },
      "source": [
        "#primero importamos tensorflow y numpy\n",
        "import tensorflow as tf"
      ],
      "execution_count": 1,
      "outputs": []
    },
    {
      "cell_type": "code",
      "metadata": {
        "id": "uFi_dJSvjLmu"
      },
      "source": [
        "import numpy as np"
      ],
      "execution_count": 2,
      "outputs": []
    },
    {
      "cell_type": "code",
      "metadata": {
        "id": "3U3-RDFPjNqy"
      },
      "source": [
        "#Aquí definimos las variables que tienen una correlación lineal, en este caso los meses están representados por números, las temperaturas en Celcius.\n",
        "mes = np.array([1, 2, 3, 4, 5, 6, 7, 8 ,9 ,10 ,11 ,12], dtype=float)\n",
        "temperatura = np.array([7, 7.9, 9, 10.8, 14.1, 17.9, 20.8, 21.4, 18.6, 14.5, 10.4, 8.1], dtype=float)\n"
      ],
      "execution_count": 12,
      "outputs": []
    },
    {
      "cell_type": "code",
      "metadata": {
        "id": "-QTeQltGjRuE"
      },
      "source": [
        "#capa = tf.keras.layers.Dense(units=1, input_shape=[1])\n",
        "#modelo = tf.keras.Sequential([capa])\n",
        "\n",
        "oculta1 = tf.keras.layers.Dense(units=3, input_shape=[1])\n",
        "oculta2 = tf.keras.layers.Dense(units=3)\n",
        "salida = tf.keras.layers.Dense(units=1)\n",
        "modelo = tf.keras.Sequential([oculta1, oculta2, salida])\n"
      ],
      "execution_count": 13,
      "outputs": []
    },
    {
      "cell_type": "code",
      "metadata": {
        "id": "YAFjwLwjkUWB"
      },
      "source": [
        "modelo.compile(\n",
        "    optimizer=tf.keras.optimizers.Adam(0.01),\n",
        "    loss='mean_squared_error'\n",
        "\n",
        ")"
      ],
      "execution_count": 19,
      "outputs": []
    },
    {
      "cell_type": "code",
      "metadata": {
        "colab": {
          "base_uri": "https://localhost:8080/"
        },
        "id": "wGiPJEQ_krKA",
        "outputId": "43d36520-df58-439e-e551-7e77362ee622"
      },
      "source": [
        "print(\"Comenzando entrenamiento de la red...\")\n",
        "historial = modelo.fit(mes, temperatura, epochs=500, verbose=False)\n",
        "print (\"Modelo entrenado!\")\n"
      ],
      "execution_count": 23,
      "outputs": [
        {
          "output_type": "stream",
          "name": "stdout",
          "text": [
            "Comenzando entrenamiento de la red...\n",
            "Modelo entrenado!\n"
          ]
        }
      ]
    },
    {
      "cell_type": "code",
      "metadata": {
        "colab": {
          "base_uri": "https://localhost:8080/",
          "height": 296
        },
        "id": "EuvTQGGtlqhR",
        "outputId": "cb74f303-f8f0-43b9-e1bc-018f40020a1f"
      },
      "source": [
        "import matplotlib.pyplot as plt\n",
        "plt.xlabel(\"# Iteración\")\n",
        "plt.ylabel(\"Magnitud de pérdida\")\n",
        "plt.plot(historial.history[\"loss\"])\n"
      ],
      "execution_count": 24,
      "outputs": [
        {
          "output_type": "execute_result",
          "data": {
            "text/plain": [
              "[<matplotlib.lines.Line2D at 0x7f0180a21190>]"
            ]
          },
          "metadata": {},
          "execution_count": 24
        },
        {
          "output_type": "display_data",
          "data": {
            "image/png": "[encoded data removed]",
            "text/plain": [
              "<Figure size 432x288 with 1 Axes>"
            ]
          },
          "metadata": {
            "needs_background": "light"
          }
        }
      ]
    },
    {
      "cell_type": "code",
      "metadata": {
        "colab": {
          "base_uri": "https://localhost:8080/"
        },
        "id": "v8F5bW1YmKzI",
        "outputId": "62d85f08-83ab-4718-8569-e5177f5ae319"
      },
      "source": [
        "print(\"Test de conversión de red neuronal\")\n",
        "resultado = modelo.predict([22])\n",
        "print (\"La temperatura en enero del año siguiente será de \" + str(resultado) + \" Celsius\")\n",
        "\n",
        "#el modelo tiene problemas para predecir temperaturas bajas, pero mejoró respecto a la predicción lineal de la primera versión."
      ],
      "execution_count": 27,
      "outputs": [
        {
          "output_type": "stream",
          "name": "stdout",
          "text": [
            "Test de conversión de red neuronal\n",
            "La temperatura en enero del año siguiente será de [[20.79494]] Celsius\n"
          ]
        }
      ]
    },
    {
      "cell_type": "code",
      "metadata": {
        "colab": {
          "base_uri": "https://localhost:8080/"
        },
        "id": "CqLMNtoLL5AF",
        "outputId": "a9514cfb-d045-4719-8c64-e85172cec9f7"
      },
      "source": [
        "print (\"Variables internas del modelo\")\n",
        "print (salida.get_weights())"
      ],
      "execution_count": 11,
      "outputs": [
        {
          "output_type": "stream",
          "name": "stdout",
          "text": [
            "Variables internas del modelo\n",
            "[array([[-1.3957589 ],\n",
            "       [ 0.27936625],\n",
            "       [ 0.1275041 ]], dtype=float32), array([0.64857924], dtype=float32)]\n"
          ]
        }
      ]
    }
  ]
}