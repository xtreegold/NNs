{
  "nbformat": 4,
  "nbformat_minor": 0,
  "metadata": {
    "colab": {
      "name": "Predictor de temperatura 2.0 (múltiples capas y neuronas).ipynb",
      "provenance": [],
      "authorship_tag": "ABX9TyNVU6097ZfKjVUC84qTthP9",
      "include_colab_link": true
    },
    "kernelspec": {
      "name": "python3",
      "display_name": "Python 3"
    },
    "language_info": {
      "name": "python"
    }
  },
  "cells": [
    {
      "cell_type": "markdown",
      "metadata": {
        "id": "view-in-github",
        "colab_type": "text"
      },
      "source": [
        "<a href=\"https://colab.research.google.com/github/xtreegold/NNs/blob/main/Predictor_de_temperatura_2_1_(m%C3%BAltiples_capas_y_neuronas).ipynb\" target=\"_parent\"><img src=\"https://colab.research.google.com/assets/colab-badge.svg\" alt=\"Open In Colab\"/></a>"
      ]
    },
    {
      "cell_type": "code",
      "metadata": {
        "id": "dQO20IAlfjnd"
      },
      "source": [
        "#primero importamos tensorflow y numpy\n",
        "import tensorflow as tf"
      ],
      "execution_count": 1,
      "outputs": []
    },
    {
      "cell_type": "code",
      "metadata": {
        "id": "uFi_dJSvjLmu"
      },
      "source": [
        "import numpy as np"
      ],
      "execution_count": 2,
      "outputs": []
    },
    {
      "cell_type": "code",
      "metadata": {
        "id": "3U3-RDFPjNqy"
      },
      "source": [
        "#Aquí definimos las variables que tienen una correlación lineal, en este caso los meses están representados por números, las temperaturas en Celcius.\n",
        "mes = np.array([1, 2, 3, 4, 5, 6, 7, 8 ,9 ,10 ,11 ,12, 13, 14, 15, 16, 17, 18, 19, 20, 21, 22, 23, 24], dtype=float)\n",
        "temperatura = np.array([7, 7.9, 9, 10.8, 14.1, 17.9, 20.8, 21.4, 18.6, 14.5, 10.4, 8.1, 7.2, 8.1, 8.9, 10.4, 13.9, 17.8, 21.0, 21.6, 19.1, 14.3, 10.5, 8.2], dtype=float)\n"
      ],
      "execution_count": 12,
      "outputs": []
    },
    {
      "cell_type": "code",
      "metadata": {
        "id": "-QTeQltGjRuE"
      },
      "source": [
        "#capa = tf.keras.layers.Dense(units=1, input_shape=[1])\n",
        "#modelo = tf.keras.Sequential([capa])\n",
        "\n",
        "oculta1 = tf.keras.layers.Dense(units=4, input_shape=[1])\n",
        "oculta2 = tf.keras.layers.Dense(units=4)\n",
        "salida = tf.keras.layers.Dense(units=1)\n",
        "modelo = tf.keras.Sequential([oculta1, oculta2, salida])\n"
      ],
      "execution_count": 13,
      "outputs": []
    },
    {
      "cell_type": "code",
      "metadata": {
        "id": "YAFjwLwjkUWB"
      },
      "source": [
        "modelo.compile(\n",
        "    optimizer=tf.keras.optimizers.Adam(0.01),\n",
        "    loss='mean_squared_error'\n",
        "\n",
        ")"
      ],
      "execution_count": 14,
      "outputs": []
    },
    {
      "cell_type": "code",
      "metadata": {
        "colab": {
          "base_uri": "https://localhost:8080/"
        },
        "id": "wGiPJEQ_krKA",
        "outputId": "9aa57f0a-a891-476a-d17d-c5717586c01e"
      },
      "source": [
        "print(\"Comenzando entrenamiento de la red...\")\n",
        "historial = modelo.fit(mes, temperatura, epochs=500, verbose=False)\n",
        "print (\"Modelo entrenado!\")\n"
      ],
      "execution_count": 15,
      "outputs": [
        {
          "output_type": "stream",
          "name": "stdout",
          "text": [
            "Comenzando entrenamiento de la red...\n",
            "Modelo entrenado!\n"
          ]
        }
      ]
    },
    {
      "cell_type": "code",
      "metadata": {
        "colab": {
          "base_uri": "https://localhost:8080/",
          "height": 296
        },
        "id": "EuvTQGGtlqhR",
        "outputId": "ed5465de-174e-48f9-fd00-5013cb14155d"
      },
      "source": [
        "import matplotlib.pyplot as plt\n",
        "plt.xlabel(\"# Iteración\")\n",
        "plt.ylabel(\"Magnitud de pérdida\")\n",
        "plt.plot(historial.history[\"loss\"])\n"
      ],
      "execution_count": 16,
      "outputs": [
        {
          "output_type": "execute_result",
          "data": {
            "text/plain": [
              "[<matplotlib.lines.Line2D at 0x7fa4c0c000d0>]"
            ]
          },
          "metadata": {},
          "execution_count": 16
        },
        {
          "output_type": "display_data",
          "data": {
            "image/png": "[encoded data removed]",
            "text/plain": [
              "<Figure size 432x288 with 1 Axes>"
            ]
          },
          "metadata": {
            "needs_background": "light"
          }
        }
      ]
    },
    {
      "cell_type": "code",
      "metadata": {
        "colab": {
          "base_uri": "https://localhost:8080/"
        },
        "id": "v8F5bW1YmKzI",
        "outputId": "d4b1628f-edd4-4481-a572-ca0116e29cad"
      },
      "source": [
        "print(\"Test de conversión de red neuronal\")\n",
        "resultado = modelo.predict([30])\n",
        "print (\"La temperatura en enero del año siguiente será de \" + str(resultado) + \" Celsius\")\n",
        "\n",
        "#el modelo tiene problemas para predecir temperaturas bajas, pero mejoró respecto a la predicción lineal de la primera versión."
      ],
      "execution_count": 20,
      "outputs": [
        {
          "output_type": "stream",
          "name": "stdout",
          "text": [
            "Test de conversión de red neuronal\n",
            "La temperatura en enero del año siguiente será de [[15.784163]] Celsius\n"
          ]
        }
      ]
    },
    {
      "cell_type": "code",
      "metadata": {
        "colab": {
          "base_uri": "https://localhost:8080/"
        },
        "id": "CqLMNtoLL5AF",
        "outputId": "93683e7a-b219-4793-e112-2b7f0c7bb631"
      },
      "source": [
        "print (\"Variables internas del modelo\")\n",
        "print (salida.get_weights())"
      ],
      "execution_count": 21,
      "outputs": [
        {
          "output_type": "stream",
          "name": "stdout",
          "text": [
            "Variables internas del modelo\n",
            "[array([[ 0.94155735],\n",
            "       [-0.97305226],\n",
            "       [-0.8215102 ],\n",
            "       [-0.44036543]], dtype=float32), array([1.2353363], dtype=float32)]\n"
          ]
        }
      ]
    }
  ]
}